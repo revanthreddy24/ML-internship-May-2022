{
 "cells": [
  {
   "cell_type": "code",
   "execution_count": 20,
   "id": "346a3b99",
   "metadata": {},
   "outputs": [],
   "source": [
    "#1.Write a python function which should be capable of finding the factorial of any given number as an argument\n",
    "def fact(n):\n",
    "    if n<0:\n",
    "        return \n",
    "    if n==0:\n",
    "        return 1\n",
    "    else:\n",
    "        n+=-1\n",
    "        return (n+1)*fact(n)"
   ]
  },
  {
   "cell_type": "code",
   "execution_count": 26,
   "id": "101e5a5a",
   "metadata": {},
   "outputs": [
    {
     "data": {
      "text/plain": [
       "265252859812191058636308480000000"
      ]
     },
     "execution_count": 26,
     "metadata": {},
     "output_type": "execute_result"
    }
   ],
   "source": [
    "fact(30)"
   ]
  },
  {
   "cell_type": "code",
   "execution_count": 27,
   "id": "e13000d6",
   "metadata": {},
   "outputs": [],
   "source": [
    "def relation_to_luke(name):\n",
    "    if name==\"Darth Vader\":\n",
    "        print(\"Luke, I am your father.\")\n",
    "    elif name==\"leia\":\n",
    "        print(\"Luke, I am your sister.\")\n",
    "    elif name==\"Han\":\n",
    "        print(\"Luke, I am your brother in law.\")\n",
    "    elif name==\"R2D2\":\n",
    "        print(\"Luke, I am your droid.\")"
   ]
  },
  {
   "cell_type": "code",
   "execution_count": 29,
   "id": "bdec8947",
   "metadata": {},
   "outputs": [
    {
     "name": "stdout",
     "output_type": "stream",
     "text": [
      "Luke, I am your father.\n"
     ]
    }
   ],
   "source": [
    "relation_to_luke(\"Darth Vader\") "
   ]
  },
  {
   "cell_type": "code",
   "execution_count": 30,
   "id": "5f094be5",
   "metadata": {},
   "outputs": [],
   "source": [
    "#3. Create a function which takes a number as its argument and return the number of digits in it. Use \n",
    "#of len function is not allowed. For example for 5 it should return 1, for 32 it should return 2 and 123 , \n",
    "#3 should be returned and so on.\n",
    "def cont(n):\n",
    "    n=str(n)\n",
    "    c=0\n",
    "    for _ in n:\n",
    "        c+=1\n",
    "    return c"
   ]
  },
  {
   "cell_type": "code",
   "execution_count": 32,
   "id": "c657baf4",
   "metadata": {},
   "outputs": [
    {
     "data": {
      "text/plain": [
       "2"
      ]
     },
     "execution_count": 32,
     "metadata": {},
     "output_type": "execute_result"
    }
   ],
   "source": [
    "cont(12)"
   ]
  },
  {
   "cell_type": "code",
   "execution_count": 37,
   "id": "a5339ca0",
   "metadata": {},
   "outputs": [],
   "source": [
    "def fact(n):\n",
    "    if n<0:\n",
    "        return \n",
    "    if n==0:\n",
    "        return 1\n",
    "    else:\n",
    "        n+=-1\n",
    "        return (n+1)*fact(n)\n",
    "def factfact(n):\n",
    "    if n<0:\n",
    "        return \n",
    "    if n==0:\n",
    "        return 1\n",
    "    else:\n",
    "        n+=-1\n",
    "        return fact(n+1)*factfact(n)"
   ]
  },
  {
   "cell_type": "code",
   "execution_count": 40,
   "id": "0b9f7ccc",
   "metadata": {},
   "outputs": [
    {
     "data": {
      "text/plain": [
       "34560"
      ]
     },
     "execution_count": 40,
     "metadata": {},
     "output_type": "execute_result"
    }
   ],
   "source": [
    "factfact(5)"
   ]
  },
  {
   "cell_type": "code",
   "execution_count": 43,
   "id": "77869d18",
   "metadata": {},
   "outputs": [],
   "source": [
    "#5. Write a function which takes any number of arguments from a user and return the result which \n",
    "#should be output of a2 + b2+ c2+… if a , b ,c are numbers supplied ..i.e if 1,2,3 are supplied then result \n",
    "#returned should be 14. But user may supply any number of inputs so make the function to adapt to \n",
    "#that.\n",
    "def fun(*args):\n",
    "    s=0\n",
    "    for i in args:\n",
    "        s=s+i*i\n",
    "    return s"
   ]
  },
  {
   "cell_type": "code",
   "execution_count": 47,
   "id": "71dc47b8",
   "metadata": {},
   "outputs": [],
   "source": [
    "#6.Write a function which accepts 3 arguments from the user.1 .number 1, 2. Number2 and 3. An \n",
    "#operation. The operation supported should be +, -, *, and /. The function should return the result of \n",
    "#given operation. For example arguments are 3,2,+ then result returned should be 5\n",
    "\n",
    "def fun(a,b,u3):\n",
    "    if u3==\"+\":\n",
    "        return a+b\n",
    "    elif u3==\"-\":\n",
    "        return a-b\n",
    "    elif u3==\"*\":\n",
    "        return a*b\n",
    "    elif u3==\"/\":\n",
    "        return a/b"
   ]
  },
  {
   "cell_type": "code",
   "execution_count": 48,
   "id": "5626d1fc",
   "metadata": {},
   "outputs": [
    {
     "data": {
      "text/plain": [
       "5"
      ]
     },
     "execution_count": 48,
     "metadata": {},
     "output_type": "execute_result"
    }
   ],
   "source": [
    "fun(3,2,\"+\")"
   ]
  },
  {
   "cell_type": "code",
   "execution_count": 49,
   "id": "e40e5dc0",
   "metadata": {},
   "outputs": [],
   "source": [
    "#7. Write a function which takes an argument which should be a numeric +ve integer. Depending on \n",
    "#the input supplied you have to print “I CAN”, “I WILL”. Suppose some one enters argument as 1 then \n",
    "#only “I CAN” should be printed. But if some one enters 2 then first “I CAN” should be printed then “I \n",
    "#WILL”. And if someone enters 3 then following should be printed in corresponding order: “I CAN”, “I \n",
    "#WILL”, “I CAN” and so on for any numbers entered.\n",
    "def pri(n):\n",
    "    i=1\n",
    "    while i<=n:\n",
    "        if i%2!=0:\n",
    "            print('I CAN')\n",
    "        else:\n",
    "            print(\"I WILL\")\n",
    "        i+=1"
   ]
  },
  {
   "cell_type": "code",
   "execution_count": 50,
   "id": "2eaf3da3",
   "metadata": {},
   "outputs": [
    {
     "name": "stdout",
     "output_type": "stream",
     "text": [
      "I CAN\n"
     ]
    }
   ],
   "source": [
    "pri(1)"
   ]
  },
  {
   "cell_type": "code",
   "execution_count": 51,
   "id": "2a074784",
   "metadata": {},
   "outputs": [
    {
     "name": "stdout",
     "output_type": "stream",
     "text": [
      "I CAN\n",
      "I WILL\n"
     ]
    }
   ],
   "source": [
    "pri(2)"
   ]
  },
  {
   "cell_type": "code",
   "execution_count": 52,
   "id": "56c7598b",
   "metadata": {},
   "outputs": [
    {
     "name": "stdout",
     "output_type": "stream",
     "text": [
      "I CAN\n",
      "I WILL\n",
      "I CAN\n"
     ]
    }
   ],
   "source": [
    "pri(3)"
   ]
  },
  {
   "cell_type": "code",
   "execution_count": 86,
   "id": "d1ced996",
   "metadata": {},
   "outputs": [
    {
     "data": {
      "text/plain": [
       "2"
      ]
     },
     "execution_count": 86,
     "metadata": {},
     "output_type": "execute_result"
    }
   ],
   "source": [
    "#8. We have been given a list of whole numbers which represents the color of each gloves, determine \n",
    "#how many pairs of gloves with matching colors there are. For example, there are 7 gloves with \n",
    "#colors [1, 2, 1, 2, 1, 3, 2]. There is one pair of color 1 and one of color 2. There are three odd gloves\n",
    "#left, one of each color. The number of pairs is 2. Create a function that returns an integer representing \n",
    "#  the number of matching pairs of gloves that are available.\n",
    "from collections import Counter\n",
    "def pair(l):\n",
    "    count=Counter(l)\n",
    "    p=0\n",
    "    for i in set(l):\n",
    "        p=p+int(count[i]/2)\n",
    "    return p\n",
    "    \n",
    "pair([1, 2, 1, 2, 1, 3, 2])"
   ]
  },
  {
   "cell_type": "code",
   "execution_count": 67,
   "id": "b0c6806e",
   "metadata": {},
   "outputs": [],
   "source": [
    "#Write a function that returns True if two arrays, when combined, form a consecutive sequence. A \n",
    "#consecutive sequence is a sequence without any gaps in the integers, e.g. 1, 2, 3, 4, 5 is a \n",
    "#consecutive sequence, but 1, 2, 4, 5 is not. Notes\n",
    "\n",
    "def consecutive_combo(l1,l2):\n",
    "    l1.extend(l2)\n",
    "    l1.sort()\n",
    "    for i in range(1,len(l1)):\n",
    "        if l1[i]-l1[i-1]!=1:\n",
    "            return False\n",
    "    return True\n",
    "        \n",
    "        "
   ]
  },
  {
   "cell_type": "code",
   "execution_count": 68,
   "id": "22606be8",
   "metadata": {},
   "outputs": [
    {
     "data": {
      "text/plain": [
       "True"
      ]
     },
     "execution_count": 68,
     "metadata": {},
     "output_type": "execute_result"
    }
   ],
   "source": [
    "consecutive_combo([7, 4, 5, 1], [2, 3, 6]) "
   ]
  },
  {
   "cell_type": "code",
   "execution_count": 69,
   "id": "92873cf7",
   "metadata": {},
   "outputs": [
    {
     "data": {
      "text/plain": [
       "False"
      ]
     },
     "execution_count": 69,
     "metadata": {},
     "output_type": "execute_result"
    }
   ],
   "source": [
    "consecutive_combo([1, 4, 6, 5], [2, 7, 8, 9]) "
   ]
  },
  {
   "cell_type": "code",
   "execution_count": 70,
   "id": "23314019",
   "metadata": {},
   "outputs": [
    {
     "data": {
      "text/plain": [
       "False"
      ]
     },
     "execution_count": 70,
     "metadata": {},
     "output_type": "execute_result"
    }
   ],
   "source": [
    "consecutive_combo([1, 4, 5, 6], [2, 3, 7, 8, 10])"
   ]
  },
  {
   "cell_type": "code",
   "execution_count": 71,
   "id": "f4d98e85",
   "metadata": {},
   "outputs": [
    {
     "data": {
      "text/plain": [
       "True"
      ]
     },
     "execution_count": 71,
     "metadata": {},
     "output_type": "execute_result"
    }
   ],
   "source": [
    "consecutive_combo([44, 46], [45]) "
   ]
  },
  {
   "cell_type": "code",
   "execution_count": 82,
   "id": "24e65736",
   "metadata": {},
   "outputs": [],
   "source": [
    "#10. You work for a manufacturer, and have been asked to calculate the total profit made on the sales \n",
    "#of a product. You are given a dictionary containing the cost price per unit (in dollars), sell price per \n",
    "#unit (in dollars), and the starting inventory. Return the total profit made, rounded to the nearest \n",
    "#dollar.\n",
    "def profit(d):\n",
    "    return round ((d[\"sell_price\"]-d[\"cost_price\"])*d[\"inventory\"] )\n"
   ]
  },
  {
   "cell_type": "code",
   "execution_count": 83,
   "id": "253932af",
   "metadata": {},
   "outputs": [
    {
     "data": {
      "text/plain": [
       "14796"
      ]
     },
     "execution_count": 83,
     "metadata": {},
     "output_type": "execute_result"
    }
   ],
   "source": [
    "profit({\n",
    " \"cost_price\": 32.67,\n",
    " \"sell_price\": 45.00,\n",
    " \"inventory\": 1200\n",
    "})"
   ]
  },
  {
   "cell_type": "code",
   "execution_count": null,
   "id": "6cf23e42",
   "metadata": {},
   "outputs": [],
   "source": []
  }
 ],
 "metadata": {
  "kernelspec": {
   "display_name": "Python 3",
   "language": "python",
   "name": "python3"
  },
  "language_info": {
   "codemirror_mode": {
    "name": "ipython",
    "version": 3
   },
   "file_extension": ".py",
   "mimetype": "text/x-python",
   "name": "python",
   "nbconvert_exporter": "python",
   "pygments_lexer": "ipython3",
   "version": "3.8.8"
  }
 },
 "nbformat": 4,
 "nbformat_minor": 5
}
